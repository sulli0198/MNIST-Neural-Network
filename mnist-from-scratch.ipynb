{
 "cells": [
  {
   "cell_type": "code",
   "execution_count": 12,
   "metadata": {
    "_cell_guid": "b1076dfc-b9ad-4769-8c92-a6c4dae69d19",
    "_uuid": "8f2839f25d086af736a60e9eeb907d3b93b6e0e5",
    "execution": {
     "iopub.execute_input": "2025-07-25T11:49:12.964807Z",
     "iopub.status.busy": "2025-07-25T11:49:12.964473Z",
     "iopub.status.idle": "2025-07-25T11:49:12.969495Z",
     "shell.execute_reply": "2025-07-25T11:49:12.968499Z",
     "shell.execute_reply.started": "2025-07-25T11:49:12.964786Z"
    },
    "trusted": true
   },
   "outputs": [],
   "source": [
    "import numpy as np \n",
    "import pandas as pd \n",
    "from matplotlib import pyplot as plt"
   ]
  },
  {
   "cell_type": "code",
   "execution_count": 3,
   "metadata": {
    "execution": {
     "iopub.execute_input": "2025-07-25T11:49:12.971005Z",
     "iopub.status.busy": "2025-07-25T11:49:12.970703Z",
     "iopub.status.idle": "2025-07-25T11:49:15.400018Z",
     "shell.execute_reply": "2025-07-25T11:49:15.399239Z",
     "shell.execute_reply.started": "2025-07-25T11:49:12.970984Z"
    },
    "trusted": true
   },
   "outputs": [],
   "source": [
    "data = pd.read_csv('MNIST/train.csv')"
   ]
  },
  {
   "cell_type": "code",
   "execution_count": 4,
   "metadata": {
    "execution": {
     "iopub.execute_input": "2025-07-25T11:49:15.401491Z",
     "iopub.status.busy": "2025-07-25T11:49:15.401236Z",
     "iopub.status.idle": "2025-07-25T11:49:15.415109Z",
     "shell.execute_reply": "2025-07-25T11:49:15.414174Z",
     "shell.execute_reply.started": "2025-07-25T11:49:15.401471Z"
    },
    "trusted": true
   },
   "outputs": [
    {
     "data": {
      "text/html": [
       "<div>\n",
       "<style scoped>\n",
       "    .dataframe tbody tr th:only-of-type {\n",
       "        vertical-align: middle;\n",
       "    }\n",
       "\n",
       "    .dataframe tbody tr th {\n",
       "        vertical-align: top;\n",
       "    }\n",
       "\n",
       "    .dataframe thead th {\n",
       "        text-align: right;\n",
       "    }\n",
       "</style>\n",
       "<table border=\"1\" class=\"dataframe\">\n",
       "  <thead>\n",
       "    <tr style=\"text-align: right;\">\n",
       "      <th></th>\n",
       "      <th>label</th>\n",
       "      <th>pixel0</th>\n",
       "      <th>pixel1</th>\n",
       "      <th>pixel2</th>\n",
       "      <th>pixel3</th>\n",
       "      <th>pixel4</th>\n",
       "      <th>pixel5</th>\n",
       "      <th>pixel6</th>\n",
       "      <th>pixel7</th>\n",
       "      <th>pixel8</th>\n",
       "      <th>...</th>\n",
       "      <th>pixel774</th>\n",
       "      <th>pixel775</th>\n",
       "      <th>pixel776</th>\n",
       "      <th>pixel777</th>\n",
       "      <th>pixel778</th>\n",
       "      <th>pixel779</th>\n",
       "      <th>pixel780</th>\n",
       "      <th>pixel781</th>\n",
       "      <th>pixel782</th>\n",
       "      <th>pixel783</th>\n",
       "    </tr>\n",
       "  </thead>\n",
       "  <tbody>\n",
       "    <tr>\n",
       "      <th>0</th>\n",
       "      <td>1</td>\n",
       "      <td>0</td>\n",
       "      <td>0</td>\n",
       "      <td>0</td>\n",
       "      <td>0</td>\n",
       "      <td>0</td>\n",
       "      <td>0</td>\n",
       "      <td>0</td>\n",
       "      <td>0</td>\n",
       "      <td>0</td>\n",
       "      <td>...</td>\n",
       "      <td>0</td>\n",
       "      <td>0</td>\n",
       "      <td>0</td>\n",
       "      <td>0</td>\n",
       "      <td>0</td>\n",
       "      <td>0</td>\n",
       "      <td>0</td>\n",
       "      <td>0</td>\n",
       "      <td>0</td>\n",
       "      <td>0</td>\n",
       "    </tr>\n",
       "    <tr>\n",
       "      <th>1</th>\n",
       "      <td>0</td>\n",
       "      <td>0</td>\n",
       "      <td>0</td>\n",
       "      <td>0</td>\n",
       "      <td>0</td>\n",
       "      <td>0</td>\n",
       "      <td>0</td>\n",
       "      <td>0</td>\n",
       "      <td>0</td>\n",
       "      <td>0</td>\n",
       "      <td>...</td>\n",
       "      <td>0</td>\n",
       "      <td>0</td>\n",
       "      <td>0</td>\n",
       "      <td>0</td>\n",
       "      <td>0</td>\n",
       "      <td>0</td>\n",
       "      <td>0</td>\n",
       "      <td>0</td>\n",
       "      <td>0</td>\n",
       "      <td>0</td>\n",
       "    </tr>\n",
       "    <tr>\n",
       "      <th>2</th>\n",
       "      <td>1</td>\n",
       "      <td>0</td>\n",
       "      <td>0</td>\n",
       "      <td>0</td>\n",
       "      <td>0</td>\n",
       "      <td>0</td>\n",
       "      <td>0</td>\n",
       "      <td>0</td>\n",
       "      <td>0</td>\n",
       "      <td>0</td>\n",
       "      <td>...</td>\n",
       "      <td>0</td>\n",
       "      <td>0</td>\n",
       "      <td>0</td>\n",
       "      <td>0</td>\n",
       "      <td>0</td>\n",
       "      <td>0</td>\n",
       "      <td>0</td>\n",
       "      <td>0</td>\n",
       "      <td>0</td>\n",
       "      <td>0</td>\n",
       "    </tr>\n",
       "    <tr>\n",
       "      <th>3</th>\n",
       "      <td>4</td>\n",
       "      <td>0</td>\n",
       "      <td>0</td>\n",
       "      <td>0</td>\n",
       "      <td>0</td>\n",
       "      <td>0</td>\n",
       "      <td>0</td>\n",
       "      <td>0</td>\n",
       "      <td>0</td>\n",
       "      <td>0</td>\n",
       "      <td>...</td>\n",
       "      <td>0</td>\n",
       "      <td>0</td>\n",
       "      <td>0</td>\n",
       "      <td>0</td>\n",
       "      <td>0</td>\n",
       "      <td>0</td>\n",
       "      <td>0</td>\n",
       "      <td>0</td>\n",
       "      <td>0</td>\n",
       "      <td>0</td>\n",
       "    </tr>\n",
       "    <tr>\n",
       "      <th>4</th>\n",
       "      <td>0</td>\n",
       "      <td>0</td>\n",
       "      <td>0</td>\n",
       "      <td>0</td>\n",
       "      <td>0</td>\n",
       "      <td>0</td>\n",
       "      <td>0</td>\n",
       "      <td>0</td>\n",
       "      <td>0</td>\n",
       "      <td>0</td>\n",
       "      <td>...</td>\n",
       "      <td>0</td>\n",
       "      <td>0</td>\n",
       "      <td>0</td>\n",
       "      <td>0</td>\n",
       "      <td>0</td>\n",
       "      <td>0</td>\n",
       "      <td>0</td>\n",
       "      <td>0</td>\n",
       "      <td>0</td>\n",
       "      <td>0</td>\n",
       "    </tr>\n",
       "  </tbody>\n",
       "</table>\n",
       "<p>5 rows × 785 columns</p>\n",
       "</div>"
      ],
      "text/plain": [
       "   label  pixel0  pixel1  pixel2  pixel3  pixel4  pixel5  pixel6  pixel7  \\\n",
       "0      1       0       0       0       0       0       0       0       0   \n",
       "1      0       0       0       0       0       0       0       0       0   \n",
       "2      1       0       0       0       0       0       0       0       0   \n",
       "3      4       0       0       0       0       0       0       0       0   \n",
       "4      0       0       0       0       0       0       0       0       0   \n",
       "\n",
       "   pixel8  ...  pixel774  pixel775  pixel776  pixel777  pixel778  pixel779  \\\n",
       "0       0  ...         0         0         0         0         0         0   \n",
       "1       0  ...         0         0         0         0         0         0   \n",
       "2       0  ...         0         0         0         0         0         0   \n",
       "3       0  ...         0         0         0         0         0         0   \n",
       "4       0  ...         0         0         0         0         0         0   \n",
       "\n",
       "   pixel780  pixel781  pixel782  pixel783  \n",
       "0         0         0         0         0  \n",
       "1         0         0         0         0  \n",
       "2         0         0         0         0  \n",
       "3         0         0         0         0  \n",
       "4         0         0         0         0  \n",
       "\n",
       "[5 rows x 785 columns]"
      ]
     },
     "execution_count": 4,
     "metadata": {},
     "output_type": "execute_result"
    }
   ],
   "source": [
    "data.head()"
   ]
  },
  {
   "cell_type": "code",
   "execution_count": 5,
   "metadata": {
    "execution": {
     "iopub.execute_input": "2025-07-25T11:49:15.416153Z",
     "iopub.status.busy": "2025-07-25T11:49:15.415906Z",
     "iopub.status.idle": "2025-07-25T11:49:16.224495Z",
     "shell.execute_reply": "2025-07-25T11:49:16.223540Z",
     "shell.execute_reply.started": "2025-07-25T11:49:15.416133Z"
    },
    "trusted": true
   },
   "outputs": [],
   "source": [
    "data = np.array(data)\n",
    "m, n = data.shape\n",
    "np.random.shuffle(data)\n",
    "\n",
    "data_test = data[0:1000].T\n",
    "Y_test = data_test[0]\n",
    "X_test = data_test[1:n]\n",
    "X_test = X_test / 255.0\n",
    "\n",
    "data_train = data[1000:m].T\n",
    "Y_train = data_train[0]\n",
    "X_train = data_train[1:n]\n",
    "X_train = X_train / 255.0"
   ]
  },
  {
   "cell_type": "code",
   "execution_count": 6,
   "metadata": {
    "execution": {
     "iopub.execute_input": "2025-07-25T11:49:16.233271Z",
     "iopub.status.busy": "2025-07-25T11:49:16.232866Z",
     "iopub.status.idle": "2025-07-25T11:49:16.249351Z",
     "shell.execute_reply": "2025-07-25T11:49:16.248299Z",
     "shell.execute_reply.started": "2025-07-25T11:49:16.233242Z"
    },
    "trusted": true
   },
   "outputs": [],
   "source": [
    "def init_params():\n",
    "    W1 = np.random.rand(10, 784) - 0.5\n",
    "    b1 = np.random.rand(10 , 1) - 0.5\n",
    "    W2 = np.random.rand(10, 10) - 0.5\n",
    "    b2 = np.random.rand(10 , 1) - 0.5\n",
    "    return W1, b1, W2, b2\n",
    "\n",
    "def ReLU(Z):\n",
    "    return np.maximum(0, Z)\n",
    "\n",
    "def softmax(Z):\n",
    "    exp_Z = np.exp(Z - np.max(Z, axis=0, keepdims=True))  # Subtract max for numerical stability\n",
    "    A = exp_Z / np.sum(exp_Z, axis=0, keepdims=True)\n",
    "    return A\n",
    "\n",
    "def forward_prop(W1, b1, W2, b2, X):\n",
    "    Z1 = W1.dot(X) + b1\n",
    "    A1 = ReLU(Z1)\n",
    "    Z2 = W2.dot(A1) + b2\n",
    "    A2 = softmax(Z2)\n",
    "    return Z1, A1, Z2, A2\n",
    "\n",
    "def one_hot(Y):\n",
    "    one_hot_Y= np.zeros((Y.size, Y.max() + 1))\n",
    "    one_hot_Y[np.arange(Y.size), Y] = 1\n",
    "    one_hot_Y = one_hot_Y.T\n",
    "    return one_hot_Y\n",
    "\n",
    "def deriv_ReLU(Z):\n",
    "    return Z > 0\n",
    "\n",
    "\n",
    "def back_prop(Z1, A1, Z2, A2, W1, W2, X, Y):\n",
    "    m = Y.size\n",
    "    one_hot_Y = one_hot(Y)\n",
    "    dZ2 = A2 - one_hot_Y\n",
    "    dW2 = 1 / m * dZ2.dot(A1.T)\n",
    "    db2 = 1 / m * np.sum(dZ2, axis=1, keepdims=True)\n",
    "    dZ1 = W2.T.dot(dZ2) * deriv_ReLU(Z1)\n",
    "    dW1 = 1 / m * dZ1.dot(X.T)\n",
    "    db1 = 1 / m * np.sum(dZ1, axis=1, keepdims=True)\n",
    "    return dW1, db1, dW2, db2\n",
    "\n",
    "def update_params(W1, b1, W2, b2, dW1, db1, dW2, db2, alpha):\n",
    "    W1 = W1 - alpha * dW1\n",
    "    b1 = b1 - alpha * db1\n",
    "    W2 = W2 - alpha * dW2\n",
    "    b2 = b2 - alpha * db2\n",
    "    return W1, b1, W2, b2\n",
    "\n",
    "    "
   ]
  },
  {
   "cell_type": "code",
   "execution_count": 7,
   "metadata": {
    "execution": {
     "iopub.execute_input": "2025-07-25T11:49:16.250632Z",
     "iopub.status.busy": "2025-07-25T11:49:16.250343Z",
     "iopub.status.idle": "2025-07-25T11:49:16.274080Z",
     "shell.execute_reply": "2025-07-25T11:49:16.273133Z",
     "shell.execute_reply.started": "2025-07-25T11:49:16.250604Z"
    },
    "trusted": true
   },
   "outputs": [],
   "source": [
    "def get_predictions(A2):\n",
    "    return np.argmax(A2, 0)\n",
    "\n",
    "def get_accuracy(predictions, Y):\n",
    "    print(predictions, Y)\n",
    "    return np.sum(predictions == Y) / Y.size\n",
    "\n",
    "def gradient_descent(X, Y, iterations, alpha):\n",
    "    W1, b1, W2, b2 = init_params()\n",
    "    for i in range (iterations):\n",
    "        Z1, A1, Z2, A2 = forward_prop(W1, b1, W2, b2, X)\n",
    "        dW1,db1, dW2, db2 = back_prop(Z1, A1, Z2, A2, W1, W2, X, Y)\n",
    "        W1, b1, W2, b2 = update_params(W1, b1, W2, b2, dW1, db1, dW2, db2, alpha)\n",
    "        if i % 10 == 0:\n",
    "            print(\"Iteration: \", i)\n",
    "            predictions = get_predictions(A2)\n",
    "            print(\"Accuracy: \", get_accuracy(get_predictions(A2), Y))\n",
    "    return W1, b1, W2, b2\n",
    "\n"
   ]
  },
  {
   "cell_type": "code",
   "execution_count": 8,
   "metadata": {
    "execution": {
     "iopub.execute_input": "2025-07-25T11:49:16.275266Z",
     "iopub.status.busy": "2025-07-25T11:49:16.274987Z",
     "iopub.status.idle": "2025-07-25T11:49:51.552725Z",
     "shell.execute_reply": "2025-07-25T11:49:51.551898Z",
     "shell.execute_reply.started": "2025-07-25T11:49:16.275244Z"
    },
    "trusted": true
   },
   "outputs": [
    {
     "name": "stdout",
     "output_type": "stream",
     "text": [
      "Iteration:  0\n",
      "[8 8 8 ... 7 1 8] [7 9 9 ... 2 3 1]\n",
      "Accuracy:  0.08882926829268292\n",
      "Iteration:  10\n",
      "[7 7 3 ... 3 1 8] [7 9 9 ... 2 3 1]\n",
      "Accuracy:  0.13921951219512196\n",
      "Iteration:  20\n",
      "[7 7 3 ... 3 1 8] [7 9 9 ... 2 3 1]\n",
      "Accuracy:  0.23621951219512194\n",
      "Iteration:  30\n",
      "[7 7 3 ... 3 1 8] [7 9 9 ... 2 3 1]\n",
      "Accuracy:  0.30073170731707316\n",
      "Iteration:  40\n",
      "[7 7 3 ... 3 1 8] [7 9 9 ... 2 3 1]\n",
      "Accuracy:  0.35224390243902437\n",
      "Iteration:  50\n",
      "[7 9 3 ... 3 1 8] [7 9 9 ... 2 3 1]\n",
      "Accuracy:  0.40334146341463417\n",
      "Iteration:  60\n",
      "[9 9 8 ... 3 1 8] [7 9 9 ... 2 3 1]\n",
      "Accuracy:  0.4534146341463415\n",
      "Iteration:  70\n",
      "[9 9 8 ... 3 1 9] [7 9 9 ... 2 3 1]\n",
      "Accuracy:  0.49490243902439024\n",
      "Iteration:  80\n",
      "[9 9 8 ... 3 1 9] [7 9 9 ... 2 3 1]\n",
      "Accuracy:  0.5278780487804878\n",
      "Iteration:  90\n",
      "[9 9 7 ... 3 1 1] [7 9 9 ... 2 3 1]\n",
      "Accuracy:  0.5573170731707318\n",
      "Iteration:  100\n",
      "[9 9 7 ... 3 1 1] [7 9 9 ... 2 3 1]\n",
      "Accuracy:  0.5824634146341463\n",
      "Iteration:  110\n",
      "[4 9 7 ... 3 1 1] [7 9 9 ... 2 3 1]\n",
      "Accuracy:  0.6087073170731707\n",
      "Iteration:  120\n",
      "[4 9 7 ... 3 1 1] [7 9 9 ... 2 3 1]\n",
      "Accuracy:  0.6307317073170732\n",
      "Iteration:  130\n",
      "[4 9 7 ... 3 1 1] [7 9 9 ... 2 3 1]\n",
      "Accuracy:  0.6505609756097561\n",
      "Iteration:  140\n",
      "[4 9 7 ... 3 1 1] [7 9 9 ... 2 3 1]\n",
      "Accuracy:  0.6680731707317074\n",
      "Iteration:  150\n",
      "[4 9 7 ... 3 8 1] [7 9 9 ... 2 3 1]\n",
      "Accuracy:  0.6820487804878049\n",
      "Iteration:  160\n",
      "[4 9 7 ... 3 8 1] [7 9 9 ... 2 3 1]\n",
      "Accuracy:  0.6952195121951219\n",
      "Iteration:  170\n",
      "[9 9 7 ... 3 8 1] [7 9 9 ... 2 3 1]\n",
      "Accuracy:  0.7066829268292683\n",
      "Iteration:  180\n",
      "[9 9 7 ... 3 8 1] [7 9 9 ... 2 3 1]\n",
      "Accuracy:  0.7168292682926829\n",
      "Iteration:  190\n",
      "[9 9 7 ... 3 8 1] [7 9 9 ... 2 3 1]\n",
      "Accuracy:  0.7253414634146341\n",
      "Iteration:  200\n",
      "[9 9 7 ... 3 8 1] [7 9 9 ... 2 3 1]\n",
      "Accuracy:  0.7349756097560975\n",
      "Iteration:  210\n",
      "[9 9 7 ... 3 8 1] [7 9 9 ... 2 3 1]\n",
      "Accuracy:  0.7438292682926829\n",
      "Iteration:  220\n",
      "[9 9 7 ... 3 8 1] [7 9 9 ... 2 3 1]\n",
      "Accuracy:  0.7515365853658537\n",
      "Iteration:  230\n",
      "[9 9 7 ... 3 5 1] [7 9 9 ... 2 3 1]\n",
      "Accuracy:  0.7590731707317073\n",
      "Iteration:  240\n",
      "[9 9 7 ... 3 5 1] [7 9 9 ... 2 3 1]\n",
      "Accuracy:  0.7666829268292683\n",
      "Iteration:  250\n",
      "[9 9 7 ... 3 5 1] [7 9 9 ... 2 3 1]\n",
      "Accuracy:  0.7730731707317073\n",
      "Iteration:  260\n",
      "[9 9 7 ... 3 5 1] [7 9 9 ... 2 3 1]\n",
      "Accuracy:  0.7787804878048781\n",
      "Iteration:  270\n",
      "[9 9 7 ... 3 5 1] [7 9 9 ... 2 3 1]\n",
      "Accuracy:  0.7836341463414634\n",
      "Iteration:  280\n",
      "[9 9 7 ... 3 5 1] [7 9 9 ... 2 3 1]\n",
      "Accuracy:  0.7888048780487805\n",
      "Iteration:  290\n",
      "[9 9 7 ... 3 5 1] [7 9 9 ... 2 3 1]\n",
      "Accuracy:  0.7929512195121952\n",
      "Iteration:  300\n",
      "[9 9 7 ... 3 5 1] [7 9 9 ... 2 3 1]\n",
      "Accuracy:  0.7968780487804878\n",
      "Iteration:  310\n",
      "[9 9 7 ... 3 5 1] [7 9 9 ... 2 3 1]\n",
      "Accuracy:  0.8008048780487805\n",
      "Iteration:  320\n",
      "[9 9 7 ... 3 5 1] [7 9 9 ... 2 3 1]\n",
      "Accuracy:  0.8048048780487805\n",
      "Iteration:  330\n",
      "[9 9 7 ... 3 5 1] [7 9 9 ... 2 3 1]\n",
      "Accuracy:  0.8081219512195122\n",
      "Iteration:  340\n",
      "[9 9 7 ... 5 5 1] [7 9 9 ... 2 3 1]\n",
      "Accuracy:  0.8111463414634147\n",
      "Iteration:  350\n",
      "[9 9 7 ... 5 5 1] [7 9 9 ... 2 3 1]\n",
      "Accuracy:  0.8140731707317073\n",
      "Iteration:  360\n",
      "[9 9 7 ... 5 5 1] [7 9 9 ... 2 3 1]\n",
      "Accuracy:  0.8166829268292682\n",
      "Iteration:  370\n",
      "[9 9 7 ... 5 5 1] [7 9 9 ... 2 3 1]\n",
      "Accuracy:  0.8189756097560975\n",
      "Iteration:  380\n",
      "[9 9 7 ... 5 5 1] [7 9 9 ... 2 3 1]\n",
      "Accuracy:  0.8210243902439024\n",
      "Iteration:  390\n",
      "[9 9 7 ... 5 5 1] [7 9 9 ... 2 3 1]\n",
      "Accuracy:  0.8231463414634146\n",
      "Iteration:  400\n",
      "[9 9 7 ... 5 5 1] [7 9 9 ... 2 3 1]\n",
      "Accuracy:  0.8256585365853658\n",
      "Iteration:  410\n",
      "[9 9 7 ... 5 5 1] [7 9 9 ... 2 3 1]\n",
      "Accuracy:  0.8275121951219512\n",
      "Iteration:  420\n",
      "[9 9 9 ... 5 5 1] [7 9 9 ... 2 3 1]\n",
      "Accuracy:  0.8292439024390243\n",
      "Iteration:  430\n",
      "[9 9 9 ... 5 5 1] [7 9 9 ... 2 3 1]\n",
      "Accuracy:  0.8311463414634146\n",
      "Iteration:  440\n",
      "[9 9 9 ... 5 5 1] [7 9 9 ... 2 3 1]\n",
      "Accuracy:  0.8326585365853658\n",
      "Iteration:  450\n",
      "[9 9 9 ... 5 5 1] [7 9 9 ... 2 3 1]\n",
      "Accuracy:  0.8347317073170731\n",
      "Iteration:  460\n",
      "[9 9 9 ... 5 5 1] [7 9 9 ... 2 3 1]\n",
      "Accuracy:  0.836170731707317\n",
      "Iteration:  470\n",
      "[9 9 9 ... 5 5 1] [7 9 9 ... 2 3 1]\n",
      "Accuracy:  0.8377317073170731\n",
      "Iteration:  480\n",
      "[9 9 9 ... 5 5 1] [7 9 9 ... 2 3 1]\n",
      "Accuracy:  0.8391219512195122\n",
      "Iteration:  490\n",
      "[9 9 9 ... 5 5 1] [7 9 9 ... 2 3 1]\n",
      "Accuracy:  0.8404634146341463\n"
     ]
    }
   ],
   "source": [
    "W1, b1, W2, b2 = gradient_descent(X_train, Y_train, 500, 0.1)"
   ]
  },
  {
   "cell_type": "code",
   "execution_count": 9,
   "metadata": {
    "execution": {
     "iopub.execute_input": "2025-07-25T11:49:51.554068Z",
     "iopub.status.busy": "2025-07-25T11:49:51.553735Z",
     "iopub.status.idle": "2025-07-25T11:49:51.560389Z",
     "shell.execute_reply": "2025-07-25T11:49:51.559556Z",
     "shell.execute_reply.started": "2025-07-25T11:49:51.554021Z"
    },
    "trusted": true
   },
   "outputs": [],
   "source": [
    "# Test on validation set\n",
    "def make_predictions(X, W1, b1, W2, b2):\n",
    "    _, _, _, A2 = forward_prop(W1, b1, W2, b2, X)\n",
    "    predictions = get_predictions(A2)\n",
    "    return predictions\n",
    "\n",
    "def test_prediction(index, W1, b1, W2, b2):\n",
    "    current_image = X_test[:, index, None]\n",
    "    prediction = make_predictions(X_test[:, index, None], W1, b1, W2, b2)\n",
    "    label = Y_test[index]\n",
    "    print(\"Prediction: \", prediction)\n",
    "    print(\"Label: \", label)\n",
    "    \n",
    "    current_image = current_image.reshape((28, 28)) * 255\n",
    "    plt.gray()\n",
    "    plt.imshow(current_image, interpolation='nearest')\n",
    "    plt.show()"
   ]
  },
  {
   "cell_type": "code",
   "execution_count": 10,
   "metadata": {
    "execution": {
     "iopub.execute_input": "2025-07-25T11:49:51.562235Z",
     "iopub.status.busy": "2025-07-25T11:49:51.561395Z",
     "iopub.status.idle": "2025-07-25T11:49:51.585402Z",
     "shell.execute_reply": "2025-07-25T11:49:51.584299Z",
     "shell.execute_reply.started": "2025-07-25T11:49:51.562206Z"
    },
    "trusted": true
   },
   "outputs": [
    {
     "name": "stdout",
     "output_type": "stream",
     "text": [
      "[0 2 9 8 9 6 1 7 4 2 6 2 4 7 9 0 8 3 9 0 1 4 0 5 7 6 8 5 7 6 1 8 9 5 8 6 1\n",
      " 2 1 9 6 9 3 9 7 5 8 2 9 4 8 0 4 6 4 1 4 2 7 2 2 6 6 4 5 3 3 1 5 1 7 1 1 7\n",
      " 0 3 0 2 9 8 5 6 4 1 8 6 3 1 2 2 8 2 0 3 7 1 0 3 7 8 9 6 5 3 1 1 7 0 9 8 3\n",
      " 2 7 0 8 7 2 9 5 1 2 5 7 1 2 2 1 1 4 1 3 0 6 0 7 3 9 9 2 1 5 5 9 1 6 9 9 7\n",
      " 1 4 8 3 8 9 6 0 6 6 2 0 5 4 7 4 8 8 6 6 2 7 3 5 1 1 6 9 2 7 8 1 8 7 0 9 8\n",
      " 9 6 8 2 1 1 7 4 2 6 1 1 7 8 6 0 7 8 7 9 5 5 2 9 8 6 8 1 7 0 2 3 1 5 5 5 8\n",
      " 0 3 2 7 8 0 0 8 8 9 4 5 6 9 6 5 9 6 6 2 9 2 9 2 2 6 6 2 1 2 5 4 9 2 3 9 6\n",
      " 8 5 3 2 3 3 1 6 8 5 0 6 0 1 5 4 4 6 9 1 1 6 0 7 9 0 8 6 6 1 1 4 7 3 1 9 3\n",
      " 6 5 5 6 3 8 9 9 1 9 2 1 1 9 3 0 2 0 8 5 4 9 4 8 4 2 1 3 6 1 2 0 0 5 3 9 9\n",
      " 1 9 4 3 3 1 0 3 0 9 3 5 1 7 9 0 3 4 7 7 9 9 7 8 3 5 2 0 9 8 9 7 7 0 8 4 8\n",
      " 0 9 4 2 2 1 6 2 6 2 9 8 0 9 4 8 8 4 9 2 0 3 1 9 0 6 7 0 2 9 8 1 2 5 0 1 3\n",
      " 4 1 2 3 6 7 0 3 4 6 6 3 5 6 5 6 2 1 3 9 3 4 3 9 8 9 4 3 6 5 2 3 5 1 5 3 7\n",
      " 8 6 4 5 6 9 2 1 6 6 1 9 7 0 4 5 6 4 5 9 1 3 2 3 9 6 6 9 9 6 0 7 5 0 6 6 7\n",
      " 6 1 0 2 1 5 8 2 2 3 5 8 9 1 2 8 8 4 0 6 7 5 6 4 8 1 7 4 4 8 8 4 8 2 9 2 5\n",
      " 3 6 6 7 0 7 2 3 7 3 1 7 9 2 6 5 3 3 0 6 5 6 0 7 0 6 6 6 1 8 6 2 6 3 6 6 8\n",
      " 7 4 9 7 4 4 9 2 1 0 9 7 6 3 7 0 8 4 2 7 0 3 5 1 7 9 1 1 2 0 3 8 6 9 3 2 1\n",
      " 8 2 9 4 0 0 1 3 4 9 7 6 7 6 0 3 5 8 9 2 6 0 8 9 2 4 8 0 7 8 1 7 3 3 2 9 8\n",
      " 1 3 1 1 7 4 2 2 6 5 4 4 3 1 1 7 8 3 8 3 8 0 0 4 9 5 7 4 4 9 9 1 3 8 6 9 6\n",
      " 2 6 1 8 9 8 2 1 9 8 1 5 6 5 9 1 6 7 1 8 9 4 7 0 6 1 7 9 1 1 9 7 8 7 6 6 6\n",
      " 8 4 7 4 0 4 0 3 1 2 4 3 9 7 4 3 7 1 7 5 8 6 1 6 1 1 7 2 8 0 2 6 4 8 2 4 1\n",
      " 8 4 1 1 7 2 3 1 0 0 4 3 8 3 1 8 1 7 1 0 9 4 9 7 1 2 3 4 0 6 1 0 5 9 8 2 6\n",
      " 2 3 6 9 9 5 8 5 0 4 1 2 1 1 8 4 7 8 4 2 8 3 4 1 4 2 3 4 9 5 7 8 8 5 6 7 9\n",
      " 2 5 4 2 3 9 1 3 1 8 9 0 5 5 6 8 0 2 6 6 0 4 4 4 5 6 4 3 4 9 4 2 0 2 8 6 3\n",
      " 2 7 3 1 4 9 5 6 7 8 4 5 3 4 5 1 7 0 8 6 8 0 9 5 8 5 5 1 4 8 4 2 7 9 2 4 6\n",
      " 0 2 9 9 3 7 0 4 5 1 2 5 2 5 9 4 0 2 0 8 2 8 2 8 1 8 5 0 0 8 9 9 1 8 5 3 8\n",
      " 2 3 4 7 9 4 6 2 7 4 6 9 3 4 1 5 0 1 5 2 8 8 9 4 7 0 4 4 9 0 9 1 3 6 0 4 0\n",
      " 4 8 3 0 6 3 5 3 9 0 8 6 1 3 3 1 8 8 3 3 9 0 1 6 8 1 5 7 5 8 3 7 0 9 1 2 6\n",
      " 2] [0 2 9 3 9 6 1 7 4 2 6 2 4 7 3 0 3 3 7 0 1 9 0 5 7 6 8 6 7 6 1 8 2 5 0 6 4\n",
      " 2 1 9 6 9 9 7 7 5 8 2 8 7 8 0 4 2 4 1 6 2 7 2 2 0 2 4 0 8 3 1 5 1 9 1 1 7\n",
      " 0 3 0 2 9 8 5 2 4 1 6 6 3 1 2 2 8 2 0 3 7 1 0 5 7 8 9 6 5 5 1 1 7 0 8 6 3\n",
      " 2 7 0 8 7 2 8 5 1 2 5 7 1 2 2 1 1 4 1 3 0 6 0 9 3 4 9 2 1 3 5 9 1 6 9 8 7\n",
      " 1 4 8 5 0 9 6 0 6 6 2 0 3 4 9 4 8 8 6 6 2 7 3 5 1 1 6 9 6 7 8 1 8 7 6 9 9\n",
      " 9 6 8 8 1 1 7 4 2 6 1 1 9 8 6 0 9 8 7 9 5 5 0 9 8 6 8 1 7 0 2 8 1 5 5 5 8\n",
      " 0 3 2 9 8 0 0 8 8 9 4 5 6 9 6 5 9 2 6 2 9 2 7 1 2 6 6 2 1 2 5 4 9 3 5 9 6\n",
      " 8 5 3 2 1 3 1 6 8 6 0 6 0 1 5 4 4 6 9 1 1 2 0 7 9 0 8 6 6 1 1 4 9 3 1 1 3\n",
      " 6 5 5 6 5 8 9 7 1 9 2 1 1 4 3 0 2 0 8 5 4 9 4 8 2 8 1 5 6 1 2 5 0 5 3 5 9\n",
      " 1 4 9 3 3 1 0 3 6 4 3 5 1 7 7 0 3 4 7 7 8 9 7 8 2 5 2 0 9 5 9 7 7 0 8 9 8\n",
      " 0 9 4 2 2 1 5 6 2 2 7 8 0 9 9 8 8 4 9 2 0 3 1 7 5 6 7 2 2 9 8 1 2 5 0 1 3\n",
      " 4 1 2 3 6 7 0 3 8 6 6 2 5 5 5 6 2 1 3 9 8 4 2 9 8 9 4 3 6 5 7 3 5 1 0 3 7\n",
      " 8 6 4 5 6 9 2 1 6 6 1 9 7 0 4 5 6 9 5 9 1 3 2 8 9 6 6 9 9 6 0 7 5 0 6 8 7\n",
      " 6 1 5 2 1 5 8 2 2 3 5 8 4 1 2 8 8 5 0 5 7 3 8 4 8 1 7 4 4 8 8 4 8 2 9 2 0\n",
      " 3 6 6 7 0 7 2 2 7 3 1 7 9 2 6 5 3 7 0 6 3 6 0 7 0 6 6 6 1 8 6 2 6 3 6 6 8\n",
      " 7 4 9 7 4 2 7 2 1 0 9 7 6 3 7 0 3 4 2 7 0 3 5 1 7 9 1 3 2 6 2 8 6 9 9 2 1\n",
      " 1 7 9 4 0 0 1 3 4 3 7 6 7 6 0 3 5 9 9 2 6 0 8 9 7 6 7 0 7 3 1 7 3 3 2 9 3\n",
      " 1 3 1 1 9 4 2 2 6 5 4 4 3 1 1 7 8 9 2 3 8 0 0 4 9 5 7 4 4 9 9 1 3 8 6 9 6\n",
      " 2 6 1 8 9 8 2 1 9 8 1 5 6 5 7 6 6 7 1 8 9 4 7 6 6 1 7 9 1 1 9 7 8 7 6 6 5\n",
      " 8 4 7 4 0 5 0 3 1 2 9 3 9 7 6 3 7 1 7 5 2 6 1 6 1 1 7 2 8 0 1 6 4 3 2 4 1\n",
      " 2 4 1 1 7 2 3 8 0 0 4 3 8 3 1 8 1 9 1 0 9 4 9 7 8 2 3 4 0 6 1 0 5 9 8 2 6\n",
      " 2 3 0 9 2 5 8 5 7 4 1 2 1 1 8 7 7 8 5 2 8 8 4 8 4 2 3 4 7 5 7 8 8 5 6 9 9\n",
      " 2 8 4 2 3 9 1 3 1 8 9 2 5 5 6 8 0 2 6 6 0 9 4 4 3 6 4 3 4 9 8 2 0 2 5 5 3\n",
      " 2 7 3 1 4 9 5 6 5 8 9 5 3 4 5 1 7 0 8 6 8 0 7 5 8 3 5 1 6 8 4 2 7 9 2 4 6\n",
      " 0 2 8 9 3 2 0 4 5 1 2 5 5 5 9 4 6 2 0 8 2 8 2 1 1 5 5 0 0 8 9 9 1 8 5 3 1\n",
      " 2 3 4 7 9 4 6 2 7 4 6 9 3 4 1 5 0 1 5 2 8 3 9 9 7 0 4 4 9 0 9 1 3 6 0 4 0\n",
      " 4 8 3 0 2 3 5 3 9 0 2 6 1 3 3 1 8 8 3 3 9 0 1 6 8 1 5 3 3 8 3 7 0 9 1 2 6\n",
      " 2]\n",
      "Test Accuracy:  0.834\n"
     ]
    }
   ],
   "source": [
    "dev_predictions = make_predictions(X_test, W1, b1, W2, b2)\n",
    "print(\"Test Accuracy: \", get_accuracy(dev_predictions, Y_test))"
   ]
  },
  {
   "cell_type": "code",
   "execution_count": 11,
   "metadata": {
    "execution": {
     "iopub.execute_input": "2025-07-25T11:49:51.587668Z",
     "iopub.status.busy": "2025-07-25T11:49:51.587425Z",
     "iopub.status.idle": "2025-07-25T11:49:52.728035Z",
     "shell.execute_reply": "2025-07-25T11:49:52.727332Z",
     "shell.execute_reply.started": "2025-07-25T11:49:51.587648Z"
    },
    "trusted": true
   },
   "outputs": [
    {
     "name": "stdout",
     "output_type": "stream",
     "text": [
      "Prediction:  [0]\n",
      "Label:  0\n"
     ]
    },
    {
     "data": {
      "image/png": "[encoded data removed]",
      "text/plain": [
       "<Figure size 640x480 with 1 Axes>"
      ]
     },
     "metadata": {},
     "output_type": "display_data"
    },
    {
     "name": "stdout",
     "output_type": "stream",
     "text": [
      "Prediction:  [2]\n",
      "Label:  2\n"
     ]
    },
    {
     "data": {
      "image/png": "[encoded data removed]",
      "text/plain": [
       "<Figure size 640x480 with 1 Axes>"
      ]
     },
     "metadata": {},
     "output_type": "display_data"
    },
    {
     "name": "stdout",
     "output_type": "stream",
     "text": [
      "Prediction:  [9]\n",
      "Label:  9\n"
     ]
    },
    {
     "data": {
      "image/png": "[encoded data removed]",
      "text/plain": [
       "<Figure size 640x480 with 1 Axes>"
      ]
     },
     "metadata": {},
     "output_type": "display_data"
    },
    {
     "name": "stdout",
     "output_type": "stream",
     "text": [
      "Prediction:  [8]\n",
      "Label:  3\n"
     ]
    },
    {
     "data": {
      "image/png": "[encoded data removed]",
      "text/plain": [
       "<Figure size 640x480 with 1 Axes>"
      ]
     },
     "metadata": {},
     "output_type": "display_data"
    },
    {
     "name": "stdout",
     "output_type": "stream",
     "text": [
      "Prediction:  [2]\n",
      "Label:  2\n"
     ]
    },
    {
     "data": {
      "image/png": "[encoded data removed]",
      "text/plain": [
       "<Figure size 640x480 with 1 Axes>"
      ]
     },
     "metadata": {},
     "output_type": "display_data"
    },
    {
     "name": "stdout",
     "output_type": "stream",
     "text": [
      "Prediction:  [6]\n",
      "Label:  6\n"
     ]
    },
    {
     "data": {
      "image/png": "[encoded data removed]",
      "text/plain": [
       "<Figure size 640x480 with 1 Axes>"
      ]
     },
     "metadata": {},
     "output_type": "display_data"
    },
    {
     "name": "stdout",
     "output_type": "stream",
     "text": [
      "Prediction:  [0]\n",
      "Label:  0\n"
     ]
    },
    {
     "data": {
      "image/png": "[encoded data removed]",
      "text/plain": [
       "<Figure size 640x480 with 1 Axes>"
      ]
     },
     "metadata": {},
     "output_type": "display_data"
    },
    {
     "name": "stdout",
     "output_type": "stream",
     "text": [
      "Prediction:  [8]\n",
      "Label:  8\n"
     ]
    },
    {
     "data": {
      "image/png": "[encoded data removed]",
      "text/plain": [
       "<Figure size 640x480 with 1 Axes>"
      ]
     },
     "metadata": {},
     "output_type": "display_data"
    },
    {
     "name": "stdout",
     "output_type": "stream",
     "text": [
      "Prediction:  [8]\n",
      "Label:  8\n"
     ]
    },
    {
     "data": {
      "image/png": "[encoded data removed]",
      "text/plain": [
       "<Figure size 640x480 with 1 Axes>"
      ]
     },
     "metadata": {},
     "output_type": "display_data"
    }
   ],
   "source": [
    "test_prediction(0, W1, b1, W2, b2)\n",
    "test_prediction(1, W1, b1, W2, b2)\n",
    "test_prediction(2, W1, b1, W2, b2)\n",
    "test_prediction(3, W1, b1, W2, b2)\n",
    "test_prediction(999, W1, b1, W2, b2)\n",
    "test_prediction(10, W1, b1, W2, b2)\n",
    "test_prediction(22, W1, b1, W2, b2)\n",
    "test_prediction(31, W1, b1, W2, b2)\n",
    "test_prediction(99, W1, b1, W2, b2)"
   ]
  }
 ],
 "metadata": {
  "kaggle": {
   "accelerator": "none",
   "dataSources": [
    {
     "databundleVersionId": 861823,
     "sourceId": 3004,
     "sourceType": "competition"
    }
   ],
   "dockerImageVersionId": 31089,
   "isGpuEnabled": false,
   "isInternetEnabled": false,
   "language": "python",
   "sourceType": "notebook"
  },
  "kernelspec": {
   "display_name": "Python 3",
   "language": "python",
   "name": "python3"
  },
  "language_info": {
   "codemirror_mode": {
    "name": "ipython",
    "version": 3
   },
   "file_extension": ".py",
   "mimetype": "text/x-python",
   "name": "python",
   "nbconvert_exporter": "python",
   "pygments_lexer": "ipython3",
   "version": "3.11.2"
  }
 },
 "nbformat": 4,
 "nbformat_minor": 4
}
